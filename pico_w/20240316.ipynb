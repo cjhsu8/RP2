{
 "cells": [
  {
   "cell_type": "code",
   "execution_count": 1,
   "metadata": {},
   "outputs": [
    {
     "ename": "ModuleNotFoundError",
     "evalue": "No module named 'machine'",
     "output_type": "error",
     "traceback": [
      "\u001b[1;31m---------------------------------------------------------------------------\u001b[0m",
      "\u001b[1;31mModuleNotFoundError\u001b[0m                       Traceback (most recent call last)",
      "Cell \u001b[1;32mIn[1], line 3\u001b[0m\n\u001b[0;32m      1\u001b[0m \u001b[38;5;66;03m#machine.freq()  # get the current frequency of the CPU\u001b[39;00m\n\u001b[1;32m----> 3\u001b[0m \u001b[38;5;28;01mimport\u001b[39;00m \u001b[38;5;21;01mmachine\u001b[39;00m\n\u001b[0;32m      4\u001b[0m \u001b[38;5;28;01mimport\u001b[39;00m \u001b[38;5;21;01mtime\u001b[39;00m\n\u001b[0;32m      5\u001b[0m \u001b[38;5;28;01mfrom\u001b[39;00m \u001b[38;5;21;01mmachine\u001b[39;00m \u001b[38;5;28;01mimport\u001b[39;00m Pin\n",
      "\u001b[1;31mModuleNotFoundError\u001b[0m: No module named 'machine'"
     ]
    }
   ],
   "source": [
    "#machine.freq()  # get the current frequency of the CPU\n",
    "\n",
    "import machine\n",
    "import time\n",
    "from machine import Pin\n",
    "\n",
    "led25 = Pin(\"LED\", Pin.OUT)\n",
    "while True:\n",
    "    print(machine.freq(),\"MHz\")\n",
    "    led25.value(1)\n",
    "    time.sleep(1)\n",
    "    led25.value(0)\n",
    "    time.sleep(1)"
   ]
  }
 ],
 "metadata": {
  "kernelspec": {
   "display_name": "Python 3",
   "language": "python",
   "name": "python3"
  },
  "language_info": {
   "codemirror_mode": {
    "name": "ipython",
    "version": 3
   },
   "file_extension": ".py",
   "mimetype": "text/x-python",
   "name": "python",
   "nbconvert_exporter": "python",
   "pygments_lexer": "ipython3",
   "version": "3.11.8"
  }
 },
 "nbformat": 4,
 "nbformat_minor": 2
}
